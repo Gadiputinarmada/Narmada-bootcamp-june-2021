{
 "cells": [
  {
   "cell_type": "code",
   "execution_count": 45,
   "metadata": {},
   "outputs": [],
   "source": [
    "import pandas as pd\n",
    "import numpy as np\n",
    "import matplotlib.pyplot as plt\n",
    "from sklearn import datasets\n",
    "from sklearn import metrics\n",
    "from sklearn.cluster import KMeans"
   ]
  },
  {
   "cell_type": "code",
   "execution_count": 102,
   "metadata": {},
   "outputs": [],
   "source": [
    "data_ = datasets.make_moons(115)\n"
   ]
  },
  {
   "cell_type": "code",
   "execution_count": 103,
   "metadata": {
    "scrolled": true
   },
   "outputs": [
    {
     "data": {
      "text/plain": [
       "(array([[ 6.49362445e-01, -4.36511241e-01],\n",
       "        [ 8.46724199e-01,  5.32032077e-01],\n",
       "        [-9.98426815e-01,  5.60704472e-02],\n",
       "        [ 6.66346578e-01,  7.45642165e-01],\n",
       "        [-1.00000000e+00,  1.22464680e-16],\n",
       "        [ 1.40169542e+00, -4.15773327e-01],\n",
       "        [ 2.76835511e-01,  9.60917322e-01],\n",
       "        [ 2.00000000e+00,  5.00000000e-01],\n",
       "        [-8.15560869e-01,  5.78671296e-01],\n",
       "        [ 1.35063756e+00, -4.36511241e-01],\n",
       "        [ 1.29851481e+00, -4.54405002e-01],\n",
       "        [ 2.22520934e-01,  9.74927912e-01],\n",
       "        [ 6.12323400e-17,  1.00000000e+00],\n",
       "        [ 9.98426815e-01,  5.60704472e-02],\n",
       "        [ 5.48466642e-01, -3.92254239e-01],\n",
       "        [ 1.85191941e+00, -2.36729140e-02],\n",
       "        [ 9.85871019e-01,  1.67506223e-01],\n",
       "        [ 3.30279062e-01,  9.43883330e-01],\n",
       "        [ 1.67506223e-01,  9.85871019e-01],\n",
       "        [ 1.24548549e+00, -4.69400266e-01],\n",
       "        [ 5.00000000e-01, -3.66025404e-01],\n",
       "        [ 8.75223422e-01,  4.83718887e-01],\n",
       "        [-5.78671296e-01,  8.15560869e-01],\n",
       "        [ 1.98636130e+00,  3.35405410e-01],\n",
       "        [ 7.45642165e-01,  6.66346578e-01],\n",
       "        [-5.32032077e-01,  8.46724199e-01],\n",
       "        [ 1.54694816e+00, -3.37166478e-01],\n",
       "        [ 1.94581724e+00,  1.75300531e-01],\n",
       "        [-9.93712210e-01,  1.11964476e-01],\n",
       "        [ 1.36386966e-02,  3.35405410e-01],\n",
       "        [ 3.82683432e-01,  9.23879533e-01],\n",
       "        [ 1.51848357e-03,  4.44912240e-01],\n",
       "        [ 7.35059328e-02,  1.23690628e-01],\n",
       "        [ 1.67728157e+00, -2.35723911e-01],\n",
       "        [ 1.59223525e+00, -3.05765106e-01],\n",
       "        [ 2.42036174e-02,  2.81318909e-01],\n",
       "        [ 6.23489802e-01,  7.81831482e-01],\n",
       "        [-2.22520934e-01,  9.74927912e-01],\n",
       "        [ 1.99848152e+00,  4.44912240e-01],\n",
       "        [ 0.00000000e+00,  5.00000000e-01],\n",
       "        [ 9.56428393e-02,  7.32235645e-02],\n",
       "        [ 9.00968868e-01,  4.33883739e-01],\n",
       "        [ 7.54514513e-01, -4.69400266e-01],\n",
       "        [-3.30279062e-01,  9.43883330e-01],\n",
       "        [ 2.10859491e-01, -1.14212713e-01],\n",
       "        [ 1.82177782e+00, -6.98080575e-02],\n",
       "        [ 1.92649407e+00,  1.23690628e-01],\n",
       "        [ 1.45153336e+00, -3.92254239e-01],\n",
       "        [-9.00968868e-01,  4.33883739e-01],\n",
       "        [ 1.71678251e+00, -1.97296801e-01],\n",
       "        [ 9.93712210e-01,  1.11964476e-01],\n",
       "        [ 5.32032077e-01,  8.46724199e-01],\n",
       "        [ 2.45893390e-01, -1.56752024e-01],\n",
       "        [ 1.96226800e+00,  2.27896535e-01],\n",
       "        [-6.66346578e-01,  7.45642165e-01],\n",
       "        [-9.85871019e-01,  1.67506223e-01],\n",
       "        [ 1.97579638e+00,  2.81318909e-01],\n",
       "        [-4.83718887e-01,  8.75223422e-01],\n",
       "        [ 1.02755434e+00, -4.99620307e-01],\n",
       "        [-7.07106781e-01,  7.07106781e-01],\n",
       "        [-9.74927912e-01,  2.22520934e-01],\n",
       "        [ 1.00000000e+00,  0.00000000e+00],\n",
       "        [-1.11964476e-01,  9.93712210e-01],\n",
       "        [ 9.74927912e-01,  2.22520934e-01],\n",
       "        [ 7.07106781e-01,  7.07106781e-01],\n",
       "        [ 1.87947375e+00,  2.40526070e-02],\n",
       "        [-2.76835511e-01,  9.60917322e-01],\n",
       "        [ 9.17420655e-01, -4.96584493e-01],\n",
       "        [-5.60704472e-02,  9.98426815e-01],\n",
       "        [-9.43883330e-01,  3.30279062e-01],\n",
       "        [-4.33883739e-01,  9.00968868e-01],\n",
       "        [ 1.78222185e-01, -6.98080575e-02],\n",
       "        [ 7.81831482e-01,  6.23489802e-01],\n",
       "        [ 9.43883330e-01,  3.30279062e-01],\n",
       "        [-8.46724199e-01,  5.32032077e-01],\n",
       "        [ 3.64276252e-01, -2.71916651e-01],\n",
       "        [ 1.19171063e+00, -4.81451493e-01],\n",
       "        [-3.82683432e-01,  9.23879533e-01],\n",
       "        [-9.23879533e-01,  3.82683432e-01],\n",
       "        [ 1.08257935e+00, -4.96584493e-01],\n",
       "        [-6.23489802e-01,  7.81831482e-01],\n",
       "        [ 4.33883739e-01,  9.00968868e-01],\n",
       "        [ 5.41827583e-02,  1.75300531e-01],\n",
       "        [ 3.22718428e-01, -2.35723911e-01],\n",
       "        [-8.75223422e-01,  4.83718887e-01],\n",
       "        [ 6.06932268e-03,  3.89991779e-01],\n",
       "        [-7.45642165e-01,  6.66346578e-01],\n",
       "        [ 7.01485189e-01, -4.54405002e-01],\n",
       "        [ 5.60704472e-02,  9.98426815e-01],\n",
       "        [ 1.99393068e+00,  3.89991779e-01],\n",
       "        [ 8.15560869e-01,  5.78671296e-01],\n",
       "        [ 9.72445658e-01, -4.99620307e-01],\n",
       "        [ 5.98304575e-01, -4.15773327e-01],\n",
       "        [ 5.78671296e-01,  8.15560869e-01],\n",
       "        [ 4.07764747e-01, -3.05765106e-01],\n",
       "        [ 1.63572375e+00, -2.71916651e-01],\n",
       "        [ 1.20526249e-01,  2.40526070e-02],\n",
       "        [ 1.11964476e-01,  9.93712210e-01],\n",
       "        [ 1.13735356e+00, -4.90522085e-01],\n",
       "        [ 3.77319997e-02,  2.27896535e-01],\n",
       "        [-7.81831482e-01,  6.23489802e-01],\n",
       "        [ 1.48080591e-01, -2.36729140e-02],\n",
       "        [ 9.23879533e-01,  3.82683432e-01],\n",
       "        [ 8.62646442e-01, -4.90522085e-01],\n",
       "        [-9.60917322e-01,  2.76835511e-01],\n",
       "        [ 9.60917322e-01,  2.76835511e-01],\n",
       "        [ 4.53051842e-01, -3.37166478e-01],\n",
       "        [ 2.83217487e-01, -1.97296801e-01],\n",
       "        [ 1.75410661e+00, -1.56752024e-01],\n",
       "        [ 8.08289368e-01, -4.81451493e-01],\n",
       "        [-1.67506223e-01,  9.85871019e-01],\n",
       "        [ 4.83718887e-01,  8.75223422e-01],\n",
       "        [ 1.78914051e+00, -1.14212713e-01],\n",
       "        [ 1.90435716e+00,  7.32235645e-02],\n",
       "        [ 1.50000000e+00, -3.66025404e-01]]),\n",
       " array([1, 0, 0, 0, 0, 1, 0, 1, 0, 1, 1, 0, 0, 0, 1, 1, 0, 0, 0, 1, 1, 0,\n",
       "        0, 1, 0, 0, 1, 1, 0, 1, 0, 1, 1, 1, 1, 1, 0, 0, 1, 1, 1, 0, 1, 0,\n",
       "        1, 1, 1, 1, 0, 1, 0, 0, 1, 1, 0, 0, 1, 0, 1, 0, 0, 0, 0, 0, 0, 1,\n",
       "        0, 1, 0, 0, 0, 1, 0, 0, 0, 1, 1, 0, 0, 1, 0, 0, 1, 1, 0, 1, 0, 1,\n",
       "        0, 1, 0, 1, 1, 0, 1, 1, 1, 0, 1, 1, 0, 1, 0, 1, 0, 0, 1, 1, 1, 1,\n",
       "        0, 0, 1, 1, 1], dtype=int64))"
      ]
     },
     "execution_count": 103,
     "metadata": {},
     "output_type": "execute_result"
    }
   ],
   "source": [
    "data_"
   ]
  },
  {
   "cell_type": "code",
   "execution_count": 104,
   "metadata": {},
   "outputs": [],
   "source": [
    "inputData = pd.DataFrame(data = data_[0])"
   ]
  },
  {
   "cell_type": "code",
   "execution_count": 105,
   "metadata": {},
   "outputs": [
    {
     "data": {
      "text/html": [
       "<div>\n",
       "<style scoped>\n",
       "    .dataframe tbody tr th:only-of-type {\n",
       "        vertical-align: middle;\n",
       "    }\n",
       "\n",
       "    .dataframe tbody tr th {\n",
       "        vertical-align: top;\n",
       "    }\n",
       "\n",
       "    .dataframe thead th {\n",
       "        text-align: right;\n",
       "    }\n",
       "</style>\n",
       "<table border=\"1\" class=\"dataframe\">\n",
       "  <thead>\n",
       "    <tr style=\"text-align: right;\">\n",
       "      <th></th>\n",
       "      <th>0</th>\n",
       "      <th>1</th>\n",
       "    </tr>\n",
       "  </thead>\n",
       "  <tbody>\n",
       "    <tr>\n",
       "      <th>0</th>\n",
       "      <td>0.649362</td>\n",
       "      <td>-4.365112e-01</td>\n",
       "    </tr>\n",
       "    <tr>\n",
       "      <th>1</th>\n",
       "      <td>0.846724</td>\n",
       "      <td>5.320321e-01</td>\n",
       "    </tr>\n",
       "    <tr>\n",
       "      <th>2</th>\n",
       "      <td>-0.998427</td>\n",
       "      <td>5.607045e-02</td>\n",
       "    </tr>\n",
       "    <tr>\n",
       "      <th>3</th>\n",
       "      <td>0.666347</td>\n",
       "      <td>7.456422e-01</td>\n",
       "    </tr>\n",
       "    <tr>\n",
       "      <th>4</th>\n",
       "      <td>-1.000000</td>\n",
       "      <td>1.224647e-16</td>\n",
       "    </tr>\n",
       "  </tbody>\n",
       "</table>\n",
       "</div>"
      ],
      "text/plain": [
       "          0             1\n",
       "0  0.649362 -4.365112e-01\n",
       "1  0.846724  5.320321e-01\n",
       "2 -0.998427  5.607045e-02\n",
       "3  0.666347  7.456422e-01\n",
       "4 -1.000000  1.224647e-16"
      ]
     },
     "execution_count": 105,
     "metadata": {},
     "output_type": "execute_result"
    }
   ],
   "source": [
    "inputData.head()"
   ]
  },
  {
   "cell_type": "code",
   "execution_count": 106,
   "metadata": {},
   "outputs": [
    {
     "data": {
      "text/plain": [
       "<matplotlib.collections.PathCollection at 0x1a2deab1250>"
      ]
     },
     "execution_count": 106,
     "metadata": {},
     "output_type": "execute_result"
    },
    {
     "data": {
      "image/png": "[encoded data removed]",
      "text/plain": [
       "<Figure size 432x288 with 1 Axes>"
      ]
     },
     "metadata": {
      "needs_background": "light"
     },
     "output_type": "display_data"
    }
   ],
   "source": [
    "plt.scatter(inputData[0], inputData[1])\n"
   ]
  },
  {
   "cell_type": "code",
   "execution_count": 107,
   "metadata": {},
   "outputs": [],
   "source": [
    "outputData1 = pd.DataFrame(data = data_[1])\n"
   ]
  },
  {
   "cell_type": "code",
   "execution_count": 108,
   "metadata": {},
   "outputs": [
    {
     "data": {
      "text/html": [
       "<div>\n",
       "<style scoped>\n",
       "    .dataframe tbody tr th:only-of-type {\n",
       "        vertical-align: middle;\n",
       "    }\n",
       "\n",
       "    .dataframe tbody tr th {\n",
       "        vertical-align: top;\n",
       "    }\n",
       "\n",
       "    .dataframe thead th {\n",
       "        text-align: right;\n",
       "    }\n",
       "</style>\n",
       "<table border=\"1\" class=\"dataframe\">\n",
       "  <thead>\n",
       "    <tr style=\"text-align: right;\">\n",
       "      <th></th>\n",
       "      <th>0</th>\n",
       "    </tr>\n",
       "  </thead>\n",
       "  <tbody>\n",
       "    <tr>\n",
       "      <th>0</th>\n",
       "      <td>1</td>\n",
       "    </tr>\n",
       "    <tr>\n",
       "      <th>1</th>\n",
       "      <td>0</td>\n",
       "    </tr>\n",
       "    <tr>\n",
       "      <th>2</th>\n",
       "      <td>0</td>\n",
       "    </tr>\n",
       "    <tr>\n",
       "      <th>3</th>\n",
       "      <td>0</td>\n",
       "    </tr>\n",
       "    <tr>\n",
       "      <th>4</th>\n",
       "      <td>0</td>\n",
       "    </tr>\n",
       "  </tbody>\n",
       "</table>\n",
       "</div>"
      ],
      "text/plain": [
       "   0\n",
       "0  1\n",
       "1  0\n",
       "2  0\n",
       "3  0\n",
       "4  0"
      ]
     },
     "execution_count": 108,
     "metadata": {},
     "output_type": "execute_result"
    }
   ],
   "source": [
    "outputData1.head()"
   ]
  },
  {
   "cell_type": "code",
   "execution_count": 109,
   "metadata": {},
   "outputs": [
    {
     "data": {
      "text/plain": [
       "<matplotlib.collections.PathCollection at 0x1a2deb05940>"
      ]
     },
     "execution_count": 109,
     "metadata": {},
     "output_type": "execute_result"
    },
    {
     "data": {
      "image/png": "[encoded data removed]",
      "text/plain": [
       "<Figure size 432x288 with 1 Axes>"
      ]
     },
     "metadata": {
      "needs_background": "light"
     },
     "output_type": "display_data"
    }
   ],
   "source": [
    "plt.scatter(inputData[0], inputData[1], c = outputData1)"
   ]
  },
  {
   "cell_type": "code",
   "execution_count": 110,
   "metadata": {},
   "outputs": [
    {
     "data": {
      "text/plain": [
       "KMeans(n_clusters=5)"
      ]
     },
     "execution_count": 110,
     "metadata": {},
     "output_type": "execute_result"
    }
   ],
   "source": [
    "\n",
    "\n",
    "\n",
    "model = KMeans(n_clusters=5)\n",
    "model.fit(inputData)"
   ]
  },
  {
   "cell_type": "code",
   "execution_count": 111,
   "metadata": {},
   "outputs": [
    {
     "data": {
      "text/plain": [
       "array([4, 3, 0, 3, 0, 4, 3, 2, 0, 4, 4, 3, 3, 4, 4, 2, 4, 3, 3, 4, 1, 3,\n",
       "       0, 2, 3, 0, 2, 2, 0, 1, 3, 1, 1, 2, 2, 1, 3, 0, 2, 1, 1, 3, 4, 0,\n",
       "       1, 2, 2, 4, 0, 2, 4, 3, 1, 2, 0, 0, 2, 0, 4, 0, 0, 4, 3, 4, 3, 2,\n",
       "       0, 4, 3, 0, 0, 1, 3, 3, 0, 1, 4, 0, 0, 4, 0, 3, 1, 1, 0, 1, 0, 4,\n",
       "       3, 2, 3, 4, 4, 3, 1, 2, 1, 3, 4, 1, 0, 1, 3, 4, 0, 4, 1, 1, 2, 4,\n",
       "       0, 3, 2, 2, 4])"
      ]
     },
     "execution_count": 111,
     "metadata": {},
     "output_type": "execute_result"
    }
   ],
   "source": [
    "model.labels_"
   ]
  },
  {
   "cell_type": "code",
   "execution_count": 112,
   "metadata": {},
   "outputs": [
    {
     "data": {
      "text/plain": [
       "0.4795732990548725"
      ]
     },
     "execution_count": 112,
     "metadata": {},
     "output_type": "execute_result"
    }
   ],
   "source": [
    "metrics.silhouette_score(inputData, model.labels_)"
   ]
  },
  {
   "cell_type": "code",
   "execution_count": 113,
   "metadata": {},
   "outputs": [
    {
     "data": {
      "text/plain": [
       "<matplotlib.collections.PathCollection at 0x1a2deb6c0d0>"
      ]
     },
     "execution_count": 113,
     "metadata": {},
     "output_type": "execute_result"
    },
    {
     "data": {
      "image/png": "[encoded data removed]",
      "text/plain": [
       "<Figure size 432x288 with 1 Axes>"
      ]
     },
     "metadata": {
      "needs_background": "light"
     },
     "output_type": "display_data"
    }
   ],
   "source": [
    "plt.scatter(inputData[0], inputData[1], c = model.labels_)"
   ]
  },
  {
   "cell_type": "code",
   "execution_count": 114,
   "metadata": {},
   "outputs": [],
   "source": [
    "\n",
    "cluster_range = range(1, 20)\n",
    "error_list = []\n",
    "\n",
    "for i in cluster_range:\n",
    "    model = KMeans(n_clusters=i)\n",
    "    model.fit(inputData)\n",
    "    res = model.inertia_\n",
    "    error_list.append(res)"
   ]
  },
  {
   "cell_type": "code",
   "execution_count": 115,
   "metadata": {},
   "outputs": [
    {
     "data": {
      "image/png": "[encoded data removed]",
      "text/plain": [
       "<Figure size 432x288 with 1 Axes>"
      ]
     },
     "metadata": {
      "needs_background": "light"
     },
     "output_type": "display_data"
    }
   ],
   "source": [
    "import matplotlib.pyplot as plt\n",
    "\n",
    "plt.plot(cluster_range, error_list, marker = \"o\", color = \"g\", markersize = 10)\n",
    "plt.xlabel(\"Cluster Range\")\n",
    "plt.ylabel(\"IntraCluster Sum\")\n",
    "plt.title(\"KMeans\")\n",
    "plt.show()"
   ]
  },
  {
   "cell_type": "code",
   "execution_count": null,
   "metadata": {},
   "outputs": [],
   "source": []
  },
  {
   "cell_type": "code",
   "execution_count": null,
   "metadata": {},
   "outputs": [],
   "source": []
  }
 ],
 "metadata": {
  "kernelspec": {
   "display_name": "Python 3",
   "language": "python",
   "name": "python3"
  },
  "language_info": {
   "codemirror_mode": {
    "name": "ipython",
    "version": 3
   },
   "file_extension": ".py",
   "mimetype": "text/x-python",
   "name": "python",
   "nbconvert_exporter": "python",
   "pygments_lexer": "ipython3",
   "version": "3.8.5"
  }
 },
 "nbformat": 4,
 "nbformat_minor": 4
}
